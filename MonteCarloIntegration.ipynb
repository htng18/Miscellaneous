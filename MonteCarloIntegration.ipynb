{
 "cells": [
  {
   "cell_type": "markdown",
   "metadata": {
    "collapsed": true
   },
   "source": [
    "# A brief study of Monte Carlo Integration Methods"
   ]
  },
  {
   "cell_type": "code",
   "execution_count": 1,
   "metadata": {
    "collapsed": true
   },
   "outputs": [],
   "source": [
    "#\n",
    "# We start with studying a simple one-dimensional integral\n",
    "# by using Monte Carlo Integration method.\n",
    "# Then, we demonstrate Monte Carlo Method with the importance \n",
    "# sampling can reduce the error.\n",
    "# \n",
    "# Finally, we study a multi-dim integral by using the packages \n",
    "# scikit-monaco and scipy integrate, respectively.\n",
    "#"
   ]
  },
  {
   "cell_type": "code",
   "execution_count": 2,
   "metadata": {
    "collapsed": true
   },
   "outputs": [],
   "source": [
    "import numpy as np\n",
    "import matplotlib.pyplot as plt\n",
    "% matplotlib inline"
   ]
  },
  {
   "cell_type": "markdown",
   "metadata": {},
   "source": [
    "# Example of 1-dim integral"
   ]
  },
  {
   "cell_type": "code",
   "execution_count": 3,
   "metadata": {
    "collapsed": true
   },
   "outputs": [],
   "source": [
    "# int^1_0 x**2 dx"
   ]
  },
  {
   "cell_type": "code",
   "execution_count": 4,
   "metadata": {
    "collapsed": true
   },
   "outputs": [],
   "source": [
    "f = lambda x: x**2"
   ]
  },
  {
   "cell_type": "code",
   "execution_count": 5,
   "metadata": {
    "collapsed": true
   },
   "outputs": [],
   "source": [
    "def OneDim_MC_integration(x1,x2,f,n):\n",
    "    X=np.linspace(x1,x2,10000)\n",
    "    y1, y2 = min(f(X)), max(f(X))\n",
    "    area = (x2-x1)*(y2-y1)\n",
    "    x = np.random.uniform(x1, x2, n)\n",
    "    y = np.random.uniform(y1, y2, n)\n",
    "    return np.mean(y<f(x))*area"
   ]
  },
  {
   "cell_type": "code",
   "execution_count": 6,
   "metadata": {},
   "outputs": [
    {
     "data": {
      "text/plain": [
       "'%.4f'"
      ]
     },
     "execution_count": 6,
     "metadata": {},
     "output_type": "execute_result"
    }
   ],
   "source": [
    "%precision 4"
   ]
  },
  {
   "cell_type": "code",
   "execution_count": 7,
   "metadata": {
    "collapsed": true
   },
   "outputs": [],
   "source": [
    "N = 1000"
   ]
  },
  {
   "cell_type": "code",
   "execution_count": 8,
   "metadata": {},
   "outputs": [
    {
     "name": "stdout",
     "output_type": "stream",
     "text": [
      "Integral = 0.33\n",
      "Wall time: 2.01 ms\n"
     ]
    }
   ],
   "source": [
    "% time print(\"Integral =\",OneDim_MC_integration(0,1,f,N))"
   ]
  },
  {
   "cell_type": "markdown",
   "metadata": {},
   "source": [
    "# Importance Sampling "
   ]
  },
  {
   "cell_type": "code",
   "execution_count": 9,
   "metadata": {
    "collapsed": true
   },
   "outputs": [],
   "source": [
    "# We adopt the function g(x) for importance sampling.\n",
    "# Consider\n",
    "# g = 2x.\n",
    "# We integrate the integral \\int^1_0 f(x)/g(x) g(x)dx\n",
    "#\n",
    "# Inverse Tranform Sampling: to produce g(x)dx\n",
    "# This can be made by finding the CDF, G(X) of g(x) and then\n",
    "# using the inverse function of G(x) as a function of uniform\n",
    "# distribution of a random variable"
   ]
  },
  {
   "cell_type": "code",
   "execution_count": 10,
   "metadata": {
    "collapsed": true
   },
   "outputs": [],
   "source": [
    "# f(x)/g(x)\n",
    "fg = lambda x: x/2"
   ]
  },
  {
   "cell_type": "code",
   "execution_count": 11,
   "metadata": {
    "collapsed": true
   },
   "outputs": [],
   "source": [
    "def Importance_sampling_1D_MCI(x1,x2,fg,n):\n",
    "    X=np.linspace(x1,x2,10000)\n",
    "    y1, y2 = min(fg(X)), max(fg(X))\n",
    "    area = (x2-x1)*(y2-y1)\n",
    "    # Here x is the inverse transform sampling of g(x)dx\n",
    "    x = np.sqrt(np.random.uniform(x1, x2, n))\n",
    "    y = np.random.uniform(y1, y2, n)\n",
    "    return np.mean(y<fg(x))*area"
   ]
  },
  {
   "cell_type": "code",
   "execution_count": 12,
   "metadata": {},
   "outputs": [
    {
     "name": "stdout",
     "output_type": "stream",
     "text": [
      "Integral = 0.3375\n",
      "Wall time: 1.98 ms\n"
     ]
    }
   ],
   "source": [
    "% time print(\"Integral =\",Importance_sampling_1D_MCI(0,1,fg,N))"
   ]
  },
  {
   "cell_type": "code",
   "execution_count": 13,
   "metadata": {
    "collapsed": true
   },
   "outputs": [],
   "source": [
    "#\n",
    "# We compare the errors between Monte Carlo integration with and\n",
    "# without importance sampling, where the error is defined as \n",
    "# sqrt((<f^2>-<f>^2)/N-1)"
   ]
  },
  {
   "cell_type": "code",
   "execution_count": 14,
   "metadata": {
    "collapsed": true
   },
   "outputs": [],
   "source": [
    "f2 = lambda x: f(x)**2"
   ]
  },
  {
   "cell_type": "code",
   "execution_count": 15,
   "metadata": {
    "collapsed": true
   },
   "outputs": [],
   "source": [
    "Ntrial = [1000,2500,5000,10000,20000,30000,40000,50000]\n",
    "MC1 = np.zeros(len(Ntrial))\n",
    "MCerr1 = np.zeros(len(Ntrial))\n",
    "for i,N in enumerate(Ntrial):\n",
    "    MC1[i] = OneDim_MC_integration(0,1,f,N)\n",
    "    MCerr1[i] = np.sqrt((OneDim_MC_integration(0,1,f2,N)-MC1[i]**2)/(N-1))"
   ]
  },
  {
   "cell_type": "code",
   "execution_count": 16,
   "metadata": {},
   "outputs": [
    {
     "name": "stdout",
     "output_type": "stream",
     "text": [
      "Monte Carlo Integration without Importance Sampling:\n",
      "Value          Error     \n",
      "0.369          0.00899555\n",
      "0.3224         0.006315  \n",
      "0.338          0.0043675 \n",
      "0.342          0.00294185\n",
      "0.3332         0.00207503\n",
      "0.3295         0.00172851\n",
      "0.3339         0.00148602\n",
      "0.3302         0.00132707\n"
     ]
    }
   ],
   "source": [
    "print(\"Monte Carlo Integration without Importance Sampling:\")\n",
    "fmt = '{:<15}{:<10}'\n",
    "print(fmt.format('Value','Error'))\n",
    "for i in range(len(Ntrial)):\n",
    "    print(fmt.format(np.round(MC1[i],4),np.round(MCerr1[i],8)))"
   ]
  },
  {
   "cell_type": "code",
   "execution_count": 17,
   "metadata": {
    "collapsed": true
   },
   "outputs": [],
   "source": [
    "fg2 = lambda x: fg(x)**2"
   ]
  },
  {
   "cell_type": "code",
   "execution_count": 18,
   "metadata": {
    "collapsed": true
   },
   "outputs": [],
   "source": [
    "MC2 = np.zeros(len(Ntrial))\n",
    "MCerr2 = np.zeros(len(Ntrial))\n",
    "for i,N in enumerate(Ntrial):\n",
    "    MC2[i] = Importance_sampling_1D_MCI(0,1,fg,N)\n",
    "    MCerr2[i] = np.sqrt((Importance_sampling_1D_MCI(0,1,fg2,N)-MC2[i]**2)/(N-1))"
   ]
  },
  {
   "cell_type": "code",
   "execution_count": 19,
   "metadata": {},
   "outputs": [
    {
     "name": "stdout",
     "output_type": "stream",
     "text": [
      "Monte Carlo Integration with Importance Sampling:\n",
      "Value          Error     \n",
      "0.3155         0.00536083\n",
      "0.336          0.0019807 \n",
      "0.3337         0.0015998 \n",
      "0.334          0.00110054\n",
      "0.3325         0.0008614 \n",
      "0.3347         0.0006581 \n",
      "0.3337         0.00059431\n",
      "0.3342         0.00050496\n"
     ]
    }
   ],
   "source": [
    "print(\"Monte Carlo Integration with Importance Sampling:\")\n",
    "fmt = '{:<15}{:<10}'\n",
    "print(fmt.format('Value','Error'))\n",
    "for i in range(len(Ntrial)):\n",
    "    print(fmt.format(np.round(MC2[i],4),np.round(MCerr2[i],8)))"
   ]
  },
  {
   "cell_type": "code",
   "execution_count": 20,
   "metadata": {
    "collapsed": true
   },
   "outputs": [],
   "source": [
    "# Plot setting:\n",
    "SIZE1 = 15\n",
    "SIZE2 = 20\n",
    "SIZE3 = 25\n",
    "\n",
    "plt.rc('font', size=SIZE1)          # controls default text sizes\n",
    "plt.rc('axes', titlesize=SIZE1)     # fontsize of the axes title\n",
    "plt.rc('axes', labelsize=SIZE2)    # fontsize of the x and y labels\n",
    "plt.rc('xtick', labelsize=SIZE1)    # fontsize of the tick labels\n",
    "plt.rc('ytick', labelsize=SIZE1)    # fontsize of the tick labels\n",
    "plt.rc('legend', fontsize=SIZE1)    # legend fontsize\n",
    "plt.rc('figure', titlesize=SIZE3)  # fontsize of the figure title"
   ]
  },
  {
   "cell_type": "code",
   "execution_count": 21,
   "metadata": {},
   "outputs": [
    {
     "data": {
      "text/plain": [
       "<matplotlib.legend.Legend at 0x15b51688470>"
      ]
     },
     "execution_count": 21,
     "metadata": {},
     "output_type": "execute_result"
    },
    {
     "data": {
      "image/png": "[encoded data removed]",
      "text/plain": [
       "<matplotlib.figure.Figure at 0x15b4f633630>"
      ]
     },
     "metadata": {},
     "output_type": "display_data"
    }
   ],
   "source": [
    "plt.figure(figsize=(12,10))\n",
    "plt.plot(Ntrial,MCerr1,'bo',label=\"Without Importance Sampling\")\n",
    "plt.plot(Ntrial,MCerr2,'rs',label=\"With Importance Sampling\")\n",
    "plt.xlabel(\"Number of samples\")\n",
    "plt.ylabel(\"Error\")\n",
    "plt.legend()"
   ]
  },
  {
   "cell_type": "code",
   "execution_count": 21,
   "metadata": {
    "collapsed": true
   },
   "outputs": [],
   "source": [
    "# By using importance sampling, the errors have been reduced in this case."
   ]
  },
  {
   "cell_type": "markdown",
   "metadata": {},
   "source": [
    "# Multi-dimensional Integral"
   ]
  },
  {
   "cell_type": "code",
   "execution_count": 22,
   "metadata": {
    "collapsed": true
   },
   "outputs": [],
   "source": [
    "from skmonaco import mcquad"
   ]
  },
  {
   "cell_type": "code",
   "execution_count": 23,
   "metadata": {
    "collapsed": true
   },
   "outputs": [],
   "source": [
    "mintegral = lambda x5: np.sqrt(x5[0]**3+np.sin(.25*x5[1])**2+x5[2]**3*np.cos(10*x5[3])**2)"
   ]
  },
  {
   "cell_type": "code",
   "execution_count": 24,
   "metadata": {},
   "outputs": [
    {
     "name": "stdout",
     "output_type": "stream",
     "text": [
      "Integral = (33405.128007662155, 5.893163110601492)\n",
      "Wall time: 51.9 s\n"
     ]
    }
   ],
   "source": [
    "% time print(\"Integral =\",mcquad(mintegral,xl=[0.,0.,0.,0.],xu=[10.,2*np.pi,10.,np.pi],npoints=1e7))"
   ]
  },
  {
   "cell_type": "code",
   "execution_count": 25,
   "metadata": {
    "collapsed": true
   },
   "outputs": [],
   "source": [
    "from scipy import integrate"
   ]
  },
  {
   "cell_type": "code",
   "execution_count": 26,
   "metadata": {
    "collapsed": true
   },
   "outputs": [],
   "source": [
    "mintegral2 = lambda w,x,y,z: np.sqrt(w**3+np.sin(.25*x)**2+y**3*np.cos(10*z)**2)"
   ]
  },
  {
   "cell_type": "code",
   "execution_count": 27,
   "metadata": {},
   "outputs": [
    {
     "name": "stdout",
     "output_type": "stream",
     "text": [
      "Integral = (33403.350941281016, 0.004147945697529796)\n",
      "Wall time: 4min 28s\n"
     ]
    },
    {
     "name": "stderr",
     "output_type": "stream",
     "text": [
      "C:\\Users\\HoT\\Anaconda3_2\\lib\\site-packages\\scipy\\integrate\\quadpack.py:364: IntegrationWarning: The maximum number of subdivisions (50) has been achieved.\n",
      "  If increasing the limit yields no improvement it is advised to analyze \n",
      "  the integrand in order to determine the difficulties.  If the position of a \n",
      "  local difficulty can be determined (singularity, discontinuity) one will \n",
      "  probably gain from splitting up the interval and calling the integrator \n",
      "  on the subranges.  Perhaps a special-purpose integrator should be used.\n",
      "  warnings.warn(msg, IntegrationWarning)\n"
     ]
    }
   ],
   "source": [
    "% time print(\"Integral =\",integrate.nquad(mintegral2,[[0,10],[0,2*np.pi],[0,10],[0,np.pi]]))"
   ]
  }
 ],
 "metadata": {
  "kernelspec": {
   "display_name": "Python 3",
   "language": "python",
   "name": "python3"
  },
  "language_info": {
   "codemirror_mode": {
    "name": "ipython",
    "version": 3
   },
   "file_extension": ".py",
   "mimetype": "text/x-python",
   "name": "python",
   "nbconvert_exporter": "python",
   "pygments_lexer": "ipython3",
   "version": "3.6.3"
  }
 },
 "nbformat": 4,
 "nbformat_minor": 2
}
