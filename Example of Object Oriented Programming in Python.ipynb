{
 "cells": [
  {
   "cell_type": "markdown",
   "metadata": {
    "collapsed": true
   },
   "source": [
    "# An example of Object Oriented Programming in Python: Bank Account\n",
    "\n",
    "\n",
    " We show an example by using an object oriented programming in Python. We define a class for a bank account which calculates the basic function\n",
    " such as balance, deposit and withdrawal.\n",
    " \n",
    " We also define another class that inherit the basic bank account but with a higher interest rate"
   ]
  },
  {
   "cell_type": "code",
   "execution_count": 1,
   "metadata": {
    "collapsed": true
   },
   "outputs": [],
   "source": [
    "import numpy as np\n",
    "import datetime as dt"
   ]
  },
  {
   "cell_type": "markdown",
   "metadata": {},
   "source": [
    "# A Class of Basic Account "
   ]
  },
  {
   "cell_type": "code",
   "execution_count": 2,
   "metadata": {
    "collapsed": true
   },
   "outputs": [],
   "source": [
    "class Account(object):\n",
    "    irate = 0.1\n",
    "    \n",
    "    def __init__(self,name,balance,open_date):\n",
    "        self.name = name\n",
    "        self.balance = balance\n",
    "        self.open_date = open_date\n",
    "        self.interest_date = open_date\n",
    "    \n",
    "    def get_name(self):\n",
    "        return self.name\n",
    "    \n",
    "    def get_balance(self,date):\n",
    "        # balance will be updated by the interest\n",
    "        interest_amount = self.interest(date)\n",
    "        if (interest_amount == -1):\n",
    "            return print(\"Balance has been processed on {}\".format(self.interest_date))\n",
    "        else:\n",
    "            self.balance += interest_amount\n",
    "            return self.balance\n",
    "    \n",
    "    def get_open_date(self):\n",
    "        return self.open_date\n",
    "    \n",
    "    def deposit(self,amount,date):\n",
    "        # balance will be updated by the amount of deposit and interest\n",
    "        interest_amount = self.interest(date)\n",
    "        if (interest_amount == -1):\n",
    "            return print(\"Balance has been processed on {}\".format(self.interest_date))\n",
    "        else:\n",
    "            self.balance += interest_amount\n",
    "            self.balance += amount\n",
    "        \n",
    "    def withdraw(self,amount,date):\n",
    "        # balance will updated by the amount of deposit and withdrawal\n",
    "        # If balance has not enough money, then stop proceeding the withdrawal and tell them.\n",
    "        interest_amount = self.interest(date)\n",
    "        if (interest_amount == -1):\n",
    "            return print(\"Balance has been processed on {}\".format(self.interest_date))\n",
    "        else:\n",
    "            self.balance += interest_amount\n",
    "            if (self.balance >= amount):\n",
    "                self.balance -= amount\n",
    "            else:\n",
    "                print(\"Not enough money in your account!\")\n",
    "            \n",
    "    def interest(self,date,rate=irate):\n",
    "        # Calculation of interest\n",
    "        diff = date - self.interest_date\n",
    "        if (diff.days >= 0):\n",
    "            self.interest_date = date\n",
    "            return self.balance*((1+rate)**(diff.days/365)-1)\n",
    "        else:\n",
    "            return -1"
   ]
  },
  {
   "cell_type": "code",
   "execution_count": 3,
   "metadata": {
    "collapsed": true
   },
   "outputs": [],
   "source": [
    "open_date = dt.datetime.strptime('2017-05-23', \"%Y-%m-%d\")\n",
    "A = Account('John',100,open_date)"
   ]
  },
  {
   "cell_type": "code",
   "execution_count": 4,
   "metadata": {},
   "outputs": [
    {
     "name": "stdout",
     "output_type": "stream",
     "text": [
      "John\n",
      "2017-05-23 00:00:00\n"
     ]
    }
   ],
   "source": [
    "print(A.get_name())\n",
    "print(A.get_open_date())"
   ]
  },
  {
   "cell_type": "code",
   "execution_count": 5,
   "metadata": {},
   "outputs": [
    {
     "name": "stdout",
     "output_type": "stream",
     "text": [
      "102.43142740538207\n"
     ]
    }
   ],
   "source": [
    "date = dt.datetime.strptime('2017-08-23', \"%Y-%m-%d\")\n",
    "print(A.get_balance(date))"
   ]
  },
  {
   "cell_type": "code",
   "execution_count": 6,
   "metadata": {},
   "outputs": [
    {
     "name": "stdout",
     "output_type": "stream",
     "text": [
      "Balance has been processed on 2017-08-23 00:00:00\n",
      "None\n"
     ]
    }
   ],
   "source": [
    "date = dt.datetime.strptime('2017-07-30', \"%Y-%m-%d\")\n",
    "print(A.get_balance(date))"
   ]
  },
  {
   "cell_type": "code",
   "execution_count": 7,
   "metadata": {
    "collapsed": true
   },
   "outputs": [],
   "source": [
    "date = dt.datetime.strptime('2017-09-30', \"%Y-%m-%d\")\n",
    "A.deposit(100,date)"
   ]
  },
  {
   "cell_type": "code",
   "execution_count": 8,
   "metadata": {},
   "outputs": [
    {
     "name": "stdout",
     "output_type": "stream",
     "text": [
      "203.45288352621225\n"
     ]
    }
   ],
   "source": [
    "print(A.get_balance(date))"
   ]
  },
  {
   "cell_type": "code",
   "execution_count": 9,
   "metadata": {},
   "outputs": [],
   "source": [
    "A.withdraw(100,date)"
   ]
  },
  {
   "cell_type": "code",
   "execution_count": 10,
   "metadata": {},
   "outputs": [
    {
     "name": "stdout",
     "output_type": "stream",
     "text": [
      "Not enough money in your account!\n"
     ]
    }
   ],
   "source": [
    "A.withdraw(200,date)"
   ]
  },
  {
   "cell_type": "code",
   "execution_count": 11,
   "metadata": {},
   "outputs": [
    {
     "name": "stdout",
     "output_type": "stream",
     "text": [
      "103.45288352621225\n"
     ]
    }
   ],
   "source": [
    "print(A.get_balance(date))"
   ]
  },
  {
   "cell_type": "markdown",
   "metadata": {},
   "source": [
    "# A Class of Premium Account"
   ]
  },
  {
   "cell_type": "code",
   "execution_count": 12,
   "metadata": {
    "collapsed": true
   },
   "outputs": [],
   "source": [
    "# A premium account inherits the class of a basic account\n",
    "# with a higher interest rate."
   ]
  },
  {
   "cell_type": "code",
   "execution_count": 13,
   "metadata": {
    "collapsed": true
   },
   "outputs": [],
   "source": [
    "class Premium_Account(Account):\n",
    "    # This premium account has a higher interest rate\n",
    "    irate = 0.2\n",
    "    \n",
    "    def interest(self,date,rate=irate):\n",
    "        diff = date - self.interest_date\n",
    "        if (diff.days >= 0):\n",
    "            self.interest_date = date\n",
    "            return self.balance*((1+rate)**(diff.days/365)-1)\n",
    "        else:\n",
    "            return -1"
   ]
  },
  {
   "cell_type": "code",
   "execution_count": 14,
   "metadata": {
    "collapsed": true
   },
   "outputs": [],
   "source": [
    "open_date = dt.datetime.strptime('2018-01-01', \"%Y-%m-%d\")\n",
    "B = Premium_Account('Peter', 200, open_date)"
   ]
  },
  {
   "cell_type": "code",
   "execution_count": 15,
   "metadata": {},
   "outputs": [
    {
     "name": "stdout",
     "output_type": "stream",
     "text": [
      "Peter\n",
      "2018-01-01 00:00:00\n"
     ]
    }
   ],
   "source": [
    "print(B.get_name())\n",
    "print(B.get_open_date())"
   ]
  },
  {
   "cell_type": "code",
   "execution_count": 16,
   "metadata": {
    "collapsed": true
   },
   "outputs": [],
   "source": [
    "date = dt.datetime.strptime('2018-02-15', \"%Y-%m-%d\")\n",
    "B.deposit(100,date)"
   ]
  },
  {
   "cell_type": "code",
   "execution_count": 17,
   "metadata": {},
   "outputs": [
    {
     "name": "stdout",
     "output_type": "stream",
     "text": [
      "304.5465067914699\n"
     ]
    }
   ],
   "source": [
    "print(B.get_balance(date))"
   ]
  },
  {
   "cell_type": "code",
   "execution_count": 18,
   "metadata": {
    "collapsed": true
   },
   "outputs": [],
   "source": [
    "date = dt.datetime.strptime('2018-03-28', \"%Y-%m-%d\")\n",
    "B.withdraw(300,date)"
   ]
  },
  {
   "cell_type": "code",
   "execution_count": 19,
   "metadata": {},
   "outputs": [
    {
     "name": "stdout",
     "output_type": "stream",
     "text": [
      "10.847911757205338\n"
     ]
    }
   ],
   "source": [
    "print(B.get_balance(date))"
   ]
  }
 ],
 "metadata": {
  "kernelspec": {
   "display_name": "Python 3",
   "language": "python",
   "name": "python3"
  },
  "language_info": {
   "codemirror_mode": {
    "name": "ipython",
    "version": 3
   },
   "file_extension": ".py",
   "mimetype": "text/x-python",
   "name": "python",
   "nbconvert_exporter": "python",
   "pygments_lexer": "ipython3",
   "version": "3.6.3"
  }
 },
 "nbformat": 4,
 "nbformat_minor": 2
}
